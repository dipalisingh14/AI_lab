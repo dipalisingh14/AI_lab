{
  "nbformat": 4,
  "nbformat_minor": 0,
  "metadata": {
    "colab": {
      "name": "P37 P38 Camel Banana",
      "provenance": []
    },
    "kernelspec": {
      "name": "python3",
      "display_name": "Python 3"
    },
    "language_info": {
      "name": "python"
    }
  },
  "cells": [
    {
      "cell_type": "code",
      "execution_count": 1,
      "metadata": {
        "colab": {
          "base_uri": "https://localhost:8080/"
        },
        "id": "OK0m0b11f42a",
        "outputId": "36a52fb6-79a9-40c6-f704-3f590015aa10"
      },
      "outputs": [
        {
          "output_type": "stream",
          "name": "stdout",
          "text": [
            "Hello\n"
          ]
        }
      ],
      "source": [
        "print(\"Hello\")"
      ]
    },
    {
      "cell_type": "code",
      "source": [
        "total=3000\n",
        "distance=1000\n",
        "load_capacity=1000\n",
        "lose=0\n",
        "start=total\n",
        "for i in range(distance):\n",
        "    while start>0:\n",
        "        start=start-load_capacity\n",
        "        if start==1:\n",
        "            lose=lose-1\n",
        "        lose=lose+2\n",
        "    lose=lose-1\n",
        "    start=total-lose\n",
        "    if start==0:\n",
        "        break\n",
        "print(start)"
      ],
      "metadata": {
        "colab": {
          "base_uri": "https://localhost:8080/"
        },
        "id": "tToxzcKngEgN",
        "outputId": "e0b2ca8a-5796-4b58-8623-664d75c271eb"
      },
      "execution_count": 2,
      "outputs": [
        {
          "output_type": "stream",
          "name": "stdout",
          "text": [
            "533\n"
          ]
        }
      ]
    }
  ]
}